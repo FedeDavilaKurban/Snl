{
 "cells": [
  {
   "cell_type": "code",
   "execution_count": 2,
   "metadata": {},
   "outputs": [
    {
     "ename": "GetDistPlotError",
     "evalue": "chain not found: base_nnu_mnu_plikHM_TT_lowl_lowE",
     "output_type": "error",
     "traceback": [
      "\u001b[0;31m---------------------------------------------------------------------------\u001b[0m",
      "\u001b[0;31mGetDistPlotError\u001b[0m                          Traceback (most recent call last)",
      "Cell \u001b[0;32mIn[2], line 7\u001b[0m\n\u001b[1;32m      4\u001b[0m g \u001b[38;5;241m=\u001b[39m plots\u001b[38;5;241m.\u001b[39mgetSinglePlotter(chain_dir \u001b[38;5;241m=\u001b[39m \u001b[38;5;124m'\u001b[39m\u001b[38;5;124m./PLA/\u001b[39m\u001b[38;5;124m'\u001b[39m)\n\u001b[1;32m      6\u001b[0m roots \u001b[38;5;241m=\u001b[39m [\u001b[38;5;124m'\u001b[39m\u001b[38;5;124mbase_nnu_mnu_plikHM_TT_lowl_lowE\u001b[39m\u001b[38;5;124m'\u001b[39m, \u001b[38;5;124m'\u001b[39m\u001b[38;5;124mbase_nnu_mnu_plikHM_TT_lowl_lowE_post_lensing\u001b[39m\u001b[38;5;124m'\u001b[39m, \u001b[38;5;124m'\u001b[39m\u001b[38;5;124mbase_nnu_mnu_plikHM_TT_lowl_lowE_lensing_BAO\u001b[39m\u001b[38;5;124m'\u001b[39m]\n\u001b[0;32m----> 7\u001b[0m \u001b[43mg\u001b[49m\u001b[38;5;241;43m.\u001b[39;49m\u001b[43mplot_2d\u001b[49m\u001b[43m(\u001b[49m\u001b[43mroots\u001b[49m\u001b[43m,\u001b[49m\u001b[43m \u001b[49m\u001b[38;5;124;43m'\u001b[39;49m\u001b[38;5;124;43mmnu\u001b[39;49m\u001b[38;5;124;43m'\u001b[39;49m\u001b[43m,\u001b[49m\u001b[43m \u001b[49m\u001b[38;5;124;43m'\u001b[39;49m\u001b[38;5;124;43mnnu\u001b[39;49m\u001b[38;5;124;43m'\u001b[39;49m\u001b[43m,\u001b[49m\u001b[43m \u001b[49m\u001b[43mfilled\u001b[49m\u001b[38;5;241;43m=\u001b[39;49m\u001b[38;5;28;43;01mTrue\u001b[39;49;00m\u001b[43m)\u001b[49m\n\u001b[1;32m      8\u001b[0m g\u001b[38;5;241m.\u001b[39madd_legend([\u001b[38;5;124m'\u001b[39m\u001b[38;5;124mPlanck\u001b[39m\u001b[38;5;124m'\u001b[39m, \u001b[38;5;124m'\u001b[39m\u001b[38;5;124mPlanck+lensing\u001b[39m\u001b[38;5;124m'\u001b[39m, \u001b[38;5;124m'\u001b[39m\u001b[38;5;124mPlanck+lensing+BAO\u001b[39m\u001b[38;5;124m'\u001b[39m], legend_loc\u001b[38;5;241m=\u001b[39m\u001b[38;5;124m'\u001b[39m\u001b[38;5;124mupper right\u001b[39m\u001b[38;5;124m'\u001b[39m);\n\u001b[1;32m      9\u001b[0m g\u001b[38;5;241m.\u001b[39mexport(\u001b[38;5;124m'\u001b[39m\u001b[38;5;124mmnu_nnu.png\u001b[39m\u001b[38;5;124m'\u001b[39m)\n",
      "File \u001b[0;32m~/miniconda3/envs/snl/lib/python3.13/site-packages/getdist/plots.py:1704\u001b[0m, in \u001b[0;36mGetDistPlotter.plot_2d\u001b[0;34m(self, roots, param1, param2, param_pair, shaded, add_legend_proxy, line_offset, proxy_root_exclude, ax, **kwargs)\u001b[0m\n\u001b[1;32m   1702\u001b[0m     param1 \u001b[38;5;241m=\u001b[39m \u001b[38;5;28;01mNone\u001b[39;00m\n\u001b[1;32m   1703\u001b[0m _no_finish \u001b[38;5;241m=\u001b[39m kwargs\u001b[38;5;241m.\u001b[39mpop(\u001b[38;5;124m'\u001b[39m\u001b[38;5;124m_no_finish\u001b[39m\u001b[38;5;124m'\u001b[39m, \u001b[38;5;28;01mFalse\u001b[39;00m)\n\u001b[0;32m-> 1704\u001b[0m param_pair \u001b[38;5;241m=\u001b[39m \u001b[38;5;28;43mself\u001b[39;49m\u001b[38;5;241;43m.\u001b[39;49m\u001b[43mget_param_array\u001b[49m\u001b[43m(\u001b[49m\u001b[43mroots\u001b[49m\u001b[43m,\u001b[49m\u001b[43m \u001b[49m\u001b[43mparam_pair\u001b[49m\u001b[43m \u001b[49m\u001b[38;5;129;43;01mor\u001b[39;49;00m\u001b[43m \u001b[49m\u001b[43m[\u001b[49m\u001b[43mparam1\u001b[49m\u001b[43m,\u001b[49m\u001b[43m \u001b[49m\u001b[43mparam2\u001b[49m\u001b[43m]\u001b[49m\u001b[43m)\u001b[49m\n\u001b[1;32m   1705\u001b[0m ax \u001b[38;5;241m=\u001b[39m \u001b[38;5;28mself\u001b[39m\u001b[38;5;241m.\u001b[39mget_axes(ax, pars\u001b[38;5;241m=\u001b[39mparam_pair)\n\u001b[1;32m   1706\u001b[0m \u001b[38;5;28;01mif\u001b[39;00m \u001b[38;5;28mself\u001b[39m\u001b[38;5;241m.\u001b[39msettings\u001b[38;5;241m.\u001b[39mprogress:\n",
      "File \u001b[0;32m~/miniconda3/envs/snl/lib/python3.13/site-packages/getdist/plots.py:1807\u001b[0m, in \u001b[0;36mGetDistPlotter.get_param_array\u001b[0;34m(self, roots, params, renames)\u001b[0m\n\u001b[1;32m   1805\u001b[0m     names \u001b[38;5;241m=\u001b[39m ParamNames(names\u001b[38;5;241m=\u001b[39mroot\u001b[38;5;241m.\u001b[39mnames, default\u001b[38;5;241m=\u001b[39m\u001b[38;5;28mgetattr\u001b[39m(root, \u001b[38;5;124m'\u001b[39m\u001b[38;5;124mdim\u001b[39m\u001b[38;5;124m'\u001b[39m, \u001b[38;5;241m0\u001b[39m))\n\u001b[1;32m   1806\u001b[0m \u001b[38;5;28;01melse\u001b[39;00m:\n\u001b[0;32m-> 1807\u001b[0m     names \u001b[38;5;241m=\u001b[39m \u001b[38;5;28;43mself\u001b[39;49m\u001b[38;5;241;43m.\u001b[39;49m\u001b[43mparam_names_for_root\u001b[49m\u001b[43m(\u001b[49m\u001b[43mroot\u001b[49m\u001b[43m)\u001b[49m\n\u001b[1;32m   1809\u001b[0m \u001b[38;5;28;01mif\u001b[39;00m params \u001b[38;5;129;01mis\u001b[39;00m \u001b[38;5;28;01mNone\u001b[39;00m \u001b[38;5;129;01mor\u001b[39;00m \u001b[38;5;28mlen\u001b[39m(params) \u001b[38;5;241m==\u001b[39m \u001b[38;5;241m0\u001b[39m:\n\u001b[1;32m   1810\u001b[0m     \u001b[38;5;28;01mreturn\u001b[39;00m names\u001b[38;5;241m.\u001b[39mnames\n",
      "File \u001b[0;32m~/miniconda3/envs/snl/lib/python3.13/site-packages/getdist/plots.py:908\u001b[0m, in \u001b[0;36mGetDistPlotter.param_names_for_root\u001b[0;34m(self, root)\u001b[0m\n\u001b[1;32m    900\u001b[0m \u001b[38;5;250m\u001b[39m\u001b[38;5;124;03m\"\"\"\u001b[39;00m\n\u001b[1;32m    901\u001b[0m \u001b[38;5;124;03mGet the parameter names and labels :class:`~.paramnames.ParamNames` instance for the given root name\u001b[39;00m\n\u001b[1;32m    902\u001b[0m \n\u001b[1;32m    903\u001b[0m \u001b[38;5;124;03m:param root: The root name of the samples.\u001b[39;00m\n\u001b[1;32m    904\u001b[0m \u001b[38;5;124;03m:return: :class:`~.paramnames.ParamNames` instance\u001b[39;00m\n\u001b[1;32m    905\u001b[0m \u001b[38;5;124;03m\"\"\"\u001b[39;00m\n\u001b[1;32m    906\u001b[0m \u001b[38;5;28;01mif\u001b[39;00m root \u001b[38;5;129;01mnot\u001b[39;00m \u001b[38;5;129;01min\u001b[39;00m \u001b[38;5;28mself\u001b[39m\u001b[38;5;241m.\u001b[39mparam_name_sets:\n\u001b[1;32m    907\u001b[0m     \u001b[38;5;28mself\u001b[39m\u001b[38;5;241m.\u001b[39mparam_name_sets[root] \u001b[38;5;241m=\u001b[39m \\\n\u001b[0;32m--> 908\u001b[0m         \u001b[38;5;28;43mself\u001b[39;49m\u001b[38;5;241;43m.\u001b[39;49m\u001b[43msample_analyser\u001b[49m\u001b[38;5;241;43m.\u001b[39;49m\u001b[43mparams_for_root\u001b[49m\u001b[43m(\u001b[49m\u001b[43mroot\u001b[49m\u001b[43m,\u001b[49m\u001b[43m \u001b[49m\u001b[43mlabel_params\u001b[49m\u001b[38;5;241;43m=\u001b[39;49m\u001b[38;5;28;43mself\u001b[39;49m\u001b[38;5;241;43m.\u001b[39;49m\u001b[43msettings\u001b[49m\u001b[38;5;241;43m.\u001b[39;49m\u001b[43mparam_names_for_labels\u001b[49m\u001b[43m)\u001b[49m\n\u001b[1;32m    909\u001b[0m \u001b[38;5;28;01mreturn\u001b[39;00m \u001b[38;5;28mself\u001b[39m\u001b[38;5;241m.\u001b[39mparam_name_sets[root]\n",
      "File \u001b[0;32m~/miniconda3/envs/snl/lib/python3.13/site-packages/getdist/plots.py:639\u001b[0m, in \u001b[0;36mMCSampleAnalysis.params_for_root\u001b[0;34m(self, root, label_params)\u001b[0m\n\u001b[1;32m    637\u001b[0m     names \u001b[38;5;241m=\u001b[39m root\u001b[38;5;241m.\u001b[39mparamNames\n\u001b[1;32m    638\u001b[0m \u001b[38;5;28;01melse\u001b[39;00m:\n\u001b[0;32m--> 639\u001b[0m     samples \u001b[38;5;241m=\u001b[39m \u001b[38;5;28;43mself\u001b[39;49m\u001b[38;5;241;43m.\u001b[39;49m\u001b[43msamples_for_root\u001b[49m\u001b[43m(\u001b[49m\u001b[43mroot\u001b[49m\u001b[43m)\u001b[49m\n\u001b[1;32m    640\u001b[0m     names \u001b[38;5;241m=\u001b[39m samples\u001b[38;5;241m.\u001b[39mgetParamNames()\n\u001b[1;32m    641\u001b[0m \u001b[38;5;28;01mif\u001b[39;00m label_params \u001b[38;5;129;01mis\u001b[39;00m \u001b[38;5;129;01mnot\u001b[39;00m \u001b[38;5;28;01mNone\u001b[39;00m:\n",
      "File \u001b[0;32m~/miniconda3/envs/snl/lib/python3.13/site-packages/getdist/plots.py:519\u001b[0m, in \u001b[0;36mMCSampleAnalysis.samples_for_root\u001b[0;34m(self, root, file_root, cache, settings)\u001b[0m\n\u001b[1;32m    516\u001b[0m                 \u001b[38;5;28;01mbreak\u001b[39;00m\n\u001b[1;32m    518\u001b[0m \u001b[38;5;28;01mif\u001b[39;00m \u001b[38;5;129;01mnot\u001b[39;00m file_root:\n\u001b[0;32m--> 519\u001b[0m     \u001b[38;5;28;01mraise\u001b[39;00m GetDistPlotError(\u001b[38;5;124m'\u001b[39m\u001b[38;5;124mchain not found: \u001b[39m\u001b[38;5;124m'\u001b[39m \u001b[38;5;241m+\u001b[39m root)\n\u001b[1;32m    520\u001b[0m \u001b[38;5;28;01mif\u001b[39;00m \u001b[38;5;129;01mnot\u001b[39;00m \u001b[38;5;28mself\u001b[39m\u001b[38;5;241m.\u001b[39mchain_settings_have_priority:\n\u001b[1;32m    521\u001b[0m     dist_settings\u001b[38;5;241m.\u001b[39mupdate(\u001b[38;5;28mself\u001b[39m\u001b[38;5;241m.\u001b[39mini\u001b[38;5;241m.\u001b[39mparams)\n",
      "\u001b[0;31mGetDistPlotError\u001b[0m: chain not found: base_nnu_mnu_plikHM_TT_lowl_lowE"
     ]
    },
    {
     "data": {
      "text/plain": [
       "<Figure size 600x450 with 0 Axes>"
      ]
     },
     "metadata": {},
     "output_type": "display_data"
    }
   ],
   "source": [
    "import getdist\n",
    "from getdist import plots\n",
    "\n",
    "g = plots.getSinglePlotter(chain_dir = './PLA/')\n",
    "\n",
    "roots = ['base_nnu_mnu_plikHM_TT_lowl_lowE', 'base_nnu_mnu_plikHM_TT_lowl_lowE_post_lensing', 'base_nnu_mnu_plikHM_TT_lowl_lowE_lensing_BAO']\n",
    "g.plot_2d(roots, 'mnu', 'nnu', filled=True)\n",
    "g.add_legend(['Planck', 'Planck+lensing', 'Planck+lensing+BAO'], legend_loc='upper right');\n",
    "g.export('mnu_nnu.png')\n"
   ]
  }
 ],
 "metadata": {
  "kernelspec": {
   "display_name": "snl",
   "language": "python",
   "name": "python3"
  },
  "language_info": {
   "codemirror_mode": {
    "name": "ipython",
    "version": 3
   },
   "file_extension": ".py",
   "mimetype": "text/x-python",
   "name": "python",
   "nbconvert_exporter": "python",
   "pygments_lexer": "ipython3",
   "version": "3.12.7"
  }
 },
 "nbformat": 4,
 "nbformat_minor": 2
}
